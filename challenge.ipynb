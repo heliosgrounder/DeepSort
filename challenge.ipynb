{
 "cells": [
  {
   "cell_type": "code",
   "execution_count": 1,
   "metadata": {},
   "outputs": [
    {
     "name": "stderr",
     "output_type": "stream",
     "text": [
      "d:\\deepsort\\Modular-DeepSort\\packages/deep-person-reid\\torchreid\\metrics\\rank.py:11: UserWarning: Cython evaluation (very fast so highly recommended) is unavailable, now use python evaluation.\n",
      "  warnings.warn(\n"
     ]
    }
   ],
   "source": [
    "from deep_sort_app import run\n",
    "import time"
   ]
  },
  {
   "cell_type": "code",
   "execution_count": 2,
   "metadata": {},
   "outputs": [],
   "source": [
    "mot_files = [\n",
    "    \"testing_data/KITTI-17/\",\n",
    "    \"testing_data/MOT16-09/\",\n",
    "    \"testing_data/MOT16-11/\",\n",
    "    \"testing_data/PETS09-S2L1/\",\n",
    "    \"testing_data/TUD-Campus/\",\n",
    "    \"testing_data/TUD-Stadtmitte/\",\n",
    "]\n",
    "detection_models = [\n",
    "    \"original\",\n",
    "    \"yolov5nano\",\n",
    "    # \"yolov5small\",\n",
    "    # \"yolov5medium\",\n",
    "    # \"yolov5large\",\n",
    "    \"yolov5extralarge\",\n",
    "    \"yolov10nano\",\n",
    "    # \"yolov10small\",\n",
    "    # \"yolov10medium\",\n",
    "    \"yolov10balanced\",\n",
    "    # \"yolov10large\",\n",
    "    \"yolov10extralarge\",\n",
    "    \"nanodet\",\n",
    "]\n",
    "feature_generator_models = [\n",
    "    \"original\",\n",
    "    \"dpreid_shufflenet\",\n",
    "    \"dpreid_mlfn\",\n",
    "    \"dpreid_mobilenetv2_1_0\",\n",
    "    # \"dpreid_mobilenetv2_1_4\",\n",
    "    \"dpreid_osnet_ibn_x1_0\",\n",
    "    \"dpreid_osnet_ain_x1_0\",\n",
    "    # \"dpreid_osnet_ain_x0_75\",\n",
    "    # \"dpreid_osnet_ain_x0_5\",\n",
    "    # \"dpreid_osnet_ain_x0_25\",\n",
    "    \"dpreid_osnet_x1_0\",\n",
    "    # \"dpreid_osnet_x0_75\",\n",
    "    # \"dpreid_osnet_x0_5\",\n",
    "    # \"dpreid_osnet_x0_25\",\n",
    "]"
   ]
  },
  {
   "cell_type": "code",
   "execution_count": 3,
   "metadata": {},
   "outputs": [],
   "source": [
    "hyperparameters = {\n",
    "    \"min_confidence\": 0.8,\n",
    "    \"nms_max_overlap\": 1.0,\n",
    "    \"min_detection_height\": 0,\n",
    "    \"max_cosine_distance\": 0.2,\n",
    "    \"nn_budget\": None\n",
    "}\n",
    "display = False"
   ]
  },
  {
   "cell_type": "code",
   "execution_count": 5,
   "metadata": {},
   "outputs": [
    {
     "name": "stdout",
     "output_type": "stream",
     "text": [
      "original original\n",
      "testing_data/KITTI-17/ {'precision': 0.9599271402550091, 'recall': 0.7715959004392386, 'f1-score': 0.8555194805194806, 'hota': 0.8084988883560865, 'frames': 145, 'fps': 51.324526270129404}\n"
     ]
    },
    {
     "name": "stderr",
     "output_type": "stream",
     "text": [
      "d:\\deepsort\\Modular-DeepSort\\deep_sort\\preprocessing.py:47: RuntimeWarning: overflow encountered in multiply\n",
      "  area = (x2 - x1 + 1) * (y2 - y1 + 1)\n",
      "d:\\deepsort\\Modular-DeepSort\\deep_sort\\preprocessing.py:66: RuntimeWarning: overflow encountered in multiply\n",
      "  overlap = (w * h) / area[idxs[:last]]\n",
      "d:\\deepsort\\Modular-DeepSort\\deep_sort\\preprocessing.py:66: RuntimeWarning: invalid value encountered in divide\n",
      "  overlap = (w * h) / area[idxs[:last]]\n"
     ]
    },
    {
     "name": "stdout",
     "output_type": "stream",
     "text": [
      "testing_data/MOT16-09/ {'precision': 1.0, 'recall': 0.387102910405174, 'f1-score': 0.5581459133296763, 'hota': 0.6196377194614634, 'frames': 525, 'fps': 19.69502203511854}\n",
      "testing_data/MOT16-11/ {'precision': 0.9997514292816306, 'recall': 0.43841290603880534, 'f1-score': 0.6095324695006442, 'hota': 0.6574320796793435, 'frames': 900, 'fps': 15.67242692273488}\n",
      "testing_data/PETS09-S2L1/ {'precision': 0.7955116696588869, 'recall': 0.989946380697051, 'f1-score': 0.882142146127812, 'hota': 0.8945779441853692, 'frames': 795, 'fps': 18.165404810863272}\n",
      "testing_data/TUD-Campus/ {'precision': 0.9314641744548287, 'recall': 0.8328690807799443, 'f1-score': 0.8794117647058822, 'hota': 0.824727597721162, 'frames': 71, 'fps': 42.386624985392906}\n",
      "testing_data/TUD-Stadtmitte/ {'precision': 0.9201419698314108, 'recall': 0.8970588235294118, 'f1-score': 0.9084537888742883, 'hota': 0.8912429021703114, 'frames': 179, 'fps': 35.00878208040778}\n"
     ]
    },
    {
     "ename": "TypeError",
     "evalue": "can only concatenate str (not \"float\") to str",
     "output_type": "error",
     "traceback": [
      "\u001b[1;31m---------------------------------------------------------------------------\u001b[0m",
      "\u001b[1;31mTypeError\u001b[0m                                 Traceback (most recent call last)",
      "Cell \u001b[1;32mIn[5], line 64\u001b[0m\n\u001b[0;32m     62\u001b[0m \u001b[38;5;28;01mfor\u001b[39;00m i \u001b[38;5;129;01min\u001b[39;00m \u001b[38;5;28mrange\u001b[39m(\u001b[38;5;28mlen\u001b[39m(video_)):\n\u001b[0;32m     63\u001b[0m     file\u001b[38;5;241m.\u001b[39mwrite(\u001b[38;5;124m\"\u001b[39m\u001b[38;5;124m| \u001b[39m\u001b[38;5;124m\"\u001b[39m \u001b[38;5;241m+\u001b[39m video_[i] \u001b[38;5;241m+\u001b[39m \u001b[38;5;124m\"\u001b[39m\u001b[38;5;124m | \u001b[39m\u001b[38;5;124m\"\u001b[39m \u001b[38;5;241m+\u001b[39m precision_[i] \u001b[38;5;241m+\u001b[39m \u001b[38;5;124m\"\u001b[39m\u001b[38;5;124m | \u001b[39m\u001b[38;5;124m\"\u001b[39m \u001b[38;5;241m+\u001b[39m recall_[i] \u001b[38;5;241m+\u001b[39m \u001b[38;5;124m\"\u001b[39m\u001b[38;5;124m | \u001b[39m\u001b[38;5;124m\"\u001b[39m \u001b[38;5;241m+\u001b[39m f1_score_[i] \u001b[38;5;241m+\u001b[39m \u001b[38;5;124m\"\u001b[39m\u001b[38;5;124m | \u001b[39m\u001b[38;5;124m\"\u001b[39m \u001b[38;5;241m+\u001b[39m hota_[i] \u001b[38;5;241m+\u001b[39m \u001b[38;5;124m\"\u001b[39m\u001b[38;5;124m | \u001b[39m\u001b[38;5;124m\"\u001b[39m \u001b[38;5;241m+\u001b[39m fps_[i] \u001b[38;5;241m+\u001b[39m \u001b[38;5;124m\"\u001b[39m\u001b[38;5;124m |\u001b[39m\u001b[38;5;130;01m\\n\u001b[39;00m\u001b[38;5;124m\"\u001b[39m)\n\u001b[1;32m---> 64\u001b[0m file\u001b[38;5;241m.\u001b[39mwrite(\u001b[38;5;124;43m\"\u001b[39;49m\u001b[38;5;124;43m| ALL | \u001b[39;49m\u001b[38;5;124;43m\"\u001b[39;49m\u001b[43m \u001b[49m\u001b[38;5;241;43m+\u001b[39;49m\u001b[43m \u001b[49m\u001b[38;5;28;43mstr\u001b[39;49m\u001b[43m(\u001b[49m\u001b[43mmean_metrics\u001b[49m\u001b[43m[\u001b[49m\u001b[38;5;124;43m\"\u001b[39;49m\u001b[38;5;124;43mprecision\u001b[39;49m\u001b[38;5;124;43m\"\u001b[39;49m\u001b[43m]\u001b[49m\u001b[43m)\u001b[49m\u001b[43m \u001b[49m\u001b[38;5;241;43m+\u001b[39;49m\u001b[43m \u001b[49m\u001b[38;5;124;43m\"\u001b[39;49m\u001b[38;5;124;43m | \u001b[39;49m\u001b[38;5;124;43m\"\u001b[39;49m\u001b[43m \u001b[49m\u001b[38;5;241;43m+\u001b[39;49m\u001b[43m \u001b[49m\u001b[43mmean_metrics\u001b[49m\u001b[43m[\u001b[49m\u001b[38;5;124;43m\"\u001b[39;49m\u001b[38;5;124;43mrecall\u001b[39;49m\u001b[38;5;124;43m\"\u001b[39;49m\u001b[43m]\u001b[49m \u001b[38;5;241m+\u001b[39m \u001b[38;5;124m\"\u001b[39m\u001b[38;5;124m | \u001b[39m\u001b[38;5;124m\"\u001b[39m \u001b[38;5;241m+\u001b[39m mean_metrics[\u001b[38;5;124m\"\u001b[39m\u001b[38;5;124mf1-score\u001b[39m\u001b[38;5;124m\"\u001b[39m] \u001b[38;5;241m+\u001b[39m \u001b[38;5;124m\"\u001b[39m\u001b[38;5;124m | \u001b[39m\u001b[38;5;124m\"\u001b[39m \u001b[38;5;241m+\u001b[39m mean_metrics[\u001b[38;5;124m\"\u001b[39m\u001b[38;5;124mhota\u001b[39m\u001b[38;5;124m\"\u001b[39m] \u001b[38;5;241m+\u001b[39m \u001b[38;5;124m\"\u001b[39m\u001b[38;5;124m | \u001b[39m\u001b[38;5;124m\"\u001b[39m \u001b[38;5;241m+\u001b[39m mean_metrics[\u001b[38;5;124m\"\u001b[39m\u001b[38;5;124mfps\u001b[39m\u001b[38;5;124m\"\u001b[39m] \u001b[38;5;241m+\u001b[39m \u001b[38;5;124m\"\u001b[39m\u001b[38;5;124m |\u001b[39m\u001b[38;5;130;01m\\n\u001b[39;00m\u001b[38;5;124m\"\u001b[39m)\n\u001b[0;32m     65\u001b[0m file\u001b[38;5;241m.\u001b[39mwrite(\u001b[38;5;124m\"\u001b[39m\u001b[38;5;124m---\u001b[39m\u001b[38;5;130;01m\\n\u001b[39;00m\u001b[38;5;124m\"\u001b[39m)\n\u001b[0;32m     67\u001b[0m \u001b[38;5;66;03m# file.write(\"Mean metrics for all videos\\n\")\u001b[39;00m\n\u001b[0;32m     68\u001b[0m \u001b[38;5;66;03m# file.write(\"Precision: \" + str(round(mean_metrics[\"precision\"], 2)) + \"\\n\")\u001b[39;00m\n\u001b[0;32m     69\u001b[0m \u001b[38;5;66;03m# file.write(\"Recall: \" + str(round(mean_metrics[\"recall\"], 2)) + \"\\n\")\u001b[39;00m\n\u001b[1;32m   (...)\u001b[0m\n\u001b[0;32m     72\u001b[0m \u001b[38;5;66;03m# file.write(\"FPS: \" + str(round(mean_metrics[\"fps\"], 2)) + \"\\n\") \u001b[39;00m\n\u001b[0;32m     73\u001b[0m \u001b[38;5;66;03m# file.write(\"---------\\n\")\u001b[39;00m\n",
      "\u001b[1;31mTypeError\u001b[0m: can only concatenate str (not \"float\") to str"
     ]
    }
   ],
   "source": [
    "with open(\"results_original_hyperparameters.md\", \"a\") as file:\n",
    "    for d_model, fg_model in ((x, y) for x in detection_models for y in feature_generator_models):\n",
    "        mean_metrics = {\n",
    "            \"precision\": 0,\n",
    "            \"recall\": 0,\n",
    "            \"f1-score\": 0,\n",
    "            \"hota\": 0,\n",
    "            \"fps\": 0\n",
    "        }\n",
    "        print(d_model, fg_model)\n",
    "        file.write(\"Detection Model: \" + d_model + \"\\n\")\n",
    "        file.write(\"Feature Generation Model: \" + fg_model + \"\\n\")\n",
    "        video_ = []\n",
    "        precision_ = []\n",
    "        recall_ = []\n",
    "        f1_score_ = []\n",
    "        hota_ = []\n",
    "        fps_ = []\n",
    "        for seq in mot_files:\n",
    "            t0 = time.time()\n",
    "            metrics = run(\n",
    "                seq, \n",
    "                None, \n",
    "                None, \n",
    "                hyperparameters[\"min_confidence\"],\n",
    "                hyperparameters[\"nms_max_overlap\"],\n",
    "                hyperparameters[\"min_detection_height\"],\n",
    "                hyperparameters[\"max_cosine_distance\"],\n",
    "                hyperparameters[\"nn_budget\"],\n",
    "                d_model,\n",
    "                fg_model,\n",
    "                display\n",
    "            )\n",
    "            t1 = time.time()\n",
    "            metrics[\"fps\"] = metrics[\"frames\"] / (t1 - t0)\n",
    "            print(seq, metrics)\n",
    "            # file.write(\"Video: \" + seq + \"\\n\")\n",
    "            # file.write(\"Precision: \" + str(round(metrics[\"precision\"], 2)) + \"\\n\")\n",
    "            # file.write(\"Recall: \" + str(round(metrics[\"recall\"], 2)) + \"\\n\")\n",
    "            # file.write(\"F1-score: \" + str(round(metrics[\"f1-score\"], 2)) + \"\\n\")\n",
    "            # file.write(\"Hota: \" + str(round(metrics[\"hota\"], 2)) + \"\\n\") \n",
    "            # file.write(\"FPS: \" + str(round(metrics[\"fps\"], 2)) + \"\\n\") \n",
    "            video_.append(seq)\n",
    "            precision_.append(str(round(metrics[\"precision\"], 2)))\n",
    "            recall_.append(str(round(metrics[\"recall\"], 2)))\n",
    "            f1_score_.append(str(round(metrics[\"f1-score\"], 2)))\n",
    "            hota_.append(str(round(metrics[\"hota\"], 2)))\n",
    "            fps_.append(str(round(metrics[\"fps\"], 2)))\n",
    "            mean_metrics[\"precision\"] += metrics[\"precision\"]\n",
    "            mean_metrics[\"recall\"] += metrics[\"recall\"]\n",
    "            mean_metrics[\"f1-score\"] += metrics[\"f1-score\"]\n",
    "            mean_metrics[\"hota\"] += metrics[\"hota\"]\n",
    "            mean_metrics[\"fps\"] += metrics[\"fps\"]\n",
    "        mean_metrics[\"precision\"] = round(mean_metrics[\"precision\"] / len(mot_files), 2)\n",
    "        mean_metrics[\"recall\"] = round(mean_metrics[\"recall\"] / len(mot_files), 2)\n",
    "        mean_metrics[\"f1-score\"] = round(mean_metrics[\"f1-score\"] / len(mot_files), 2)\n",
    "        mean_metrics[\"hota\"] = round(mean_metrics[\"hota\"] / len(mot_files), 2)\n",
    "        mean_metrics[\"fps\"] = round(mean_metrics[\"fps\"] / len(mot_files), 2)\n",
    "        file.write(\"Metrics Table:\")\n",
    "        file.write(\"| Video | Precision | Recall | F1-score | HOTA | FPS |\\n\")\n",
    "        file.write(\"| --- | --- | --- | --- | --- | --- |\\n\")\n",
    "        for i in range(len(video_)):\n",
    "            file.write(\"| \" + video_[i] + \" | \" + precision_[i] + \" | \" + recall_[i] + \" | \" + f1_score_[i] + \" | \" + hota_[i] + \" | \" + fps_[i] + \" |\\n\")\n",
    "        file.write(\"| ALL | \" + str(mean_metrics[\"precision\"]) + \" | \" + str(mean_metrics[\"recall\"]) + \" | \" + str(mean_metrics[\"f1-score\"]) + \" | \" + str(mean_metrics[\"hota\"]) + \" | \" + str(mean_metrics[\"fps\"]) + \" |\\n\")\n",
    "        file.write(\"---\\n\")\n",
    "\n",
    "        # file.write(\"Mean metrics for all videos\\n\")\n",
    "        # file.write(\"Precision: \" + str(round(mean_metrics[\"precision\"], 2)) + \"\\n\")\n",
    "        # file.write(\"Recall: \" + str(round(mean_metrics[\"recall\"], 2)) + \"\\n\")\n",
    "        # file.write(\"F1-score: \" + str(round(mean_metrics[\"f1-score\"], 2)) + \"\\n\")\n",
    "        # file.write(\"Hota: \" + str(round(mean_metrics[\"hota\"], 2)) + \"\\n\") \n",
    "        # file.write(\"FPS: \" + str(round(mean_metrics[\"fps\"], 2)) + \"\\n\") \n",
    "        # file.write(\"---------\\n\")\n",
    "\n",
    "        print(mean_metrics)"
   ]
  },
  {
   "cell_type": "code",
   "execution_count": null,
   "metadata": {},
   "outputs": [],
   "source": []
  }
 ],
 "metadata": {
  "kernelspec": {
   "display_name": "Python 3",
   "language": "python",
   "name": "python3"
  },
  "language_info": {
   "codemirror_mode": {
    "name": "ipython",
    "version": 3
   },
   "file_extension": ".py",
   "mimetype": "text/x-python",
   "name": "python",
   "nbconvert_exporter": "python",
   "pygments_lexer": "ipython3",
   "version": "3.11.3"
  }
 },
 "nbformat": 4,
 "nbformat_minor": 2
}
