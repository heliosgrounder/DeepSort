{
 "cells": [
  {
   "cell_type": "code",
   "execution_count": 1,
   "metadata": {},
   "outputs": [
    {
     "name": "stderr",
     "output_type": "stream",
     "text": [
      "d:\\deepsort\\Modular-DeepSort\\packages/deep-person-reid\\torchreid\\metrics\\rank.py:11: UserWarning: Cython evaluation (very fast so highly recommended) is unavailable, now use python evaluation.\n",
      "  warnings.warn(\n"
     ]
    }
   ],
   "source": [
    "from deep_sort_app import run\n",
    "import time"
   ]
  },
  {
   "cell_type": "code",
   "execution_count": 2,
   "metadata": {},
   "outputs": [],
   "source": [
    "mot_files = [\n",
    "    \"testing_data/KITTI-17/\",\n",
    "    \"testing_data/MOT16-09/\",\n",
    "    \"testing_data/MOT16-11/\",\n",
    "    \"testing_data/PETS09-S2L1/\",\n",
    "    \"testing_data/TUD-Campus/\",\n",
    "    \"testing_data/TUD-Stadtmitte/\",\n",
    "]\n",
    "detection_models = [\n",
    "    \"original\",\n",
    "    \"yolov5nano\",\n",
    "    # \"yolov5small\",\n",
    "    # \"yolov5medium\",\n",
    "    # \"yolov5large\",\n",
    "    \"yolov5extralarge\",\n",
    "    \"yolov10nano\",\n",
    "    # \"yolov10small\",\n",
    "    # \"yolov10medium\",\n",
    "    \"yolov10balanced\",\n",
    "    # \"yolov10large\",\n",
    "    \"yolov10extralarge\",\n",
    "    \"nanodet\",\n",
    "]\n",
    "feature_generator_models = [\n",
    "    \"original\",\n",
    "    \"dpreid_shufflenet\",\n",
    "    \"dpreid_mlfn\",\n",
    "    \"dpreid_mobilenetv2_1_0\",\n",
    "    # \"dpreid_mobilenetv2_1_4\",\n",
    "    \"dpreid_osnet_ibn_x1_0\",\n",
    "    \"dpreid_osnet_ain_x1_0\",\n",
    "    # \"dpreid_osnet_ain_x0_75\",\n",
    "    # \"dpreid_osnet_ain_x0_5\",\n",
    "    # \"dpreid_osnet_ain_x0_25\",\n",
    "    \"dpreid_osnet_x1_0\",\n",
    "    # \"dpreid_osnet_x0_75\",\n",
    "    # \"dpreid_osnet_x0_5\",\n",
    "    # \"dpreid_osnet_x0_25\",\n",
    "]"
   ]
  },
  {
   "cell_type": "code",
   "execution_count": 3,
   "metadata": {},
   "outputs": [],
   "source": [
    "hyperparameters = {\n",
    "    \"min_confidence\": 0.8,\n",
    "    \"nms_max_overlap\": 1.0,\n",
    "    \"min_detection_height\": 0,\n",
    "    \"max_cosine_distance\": 0.2,\n",
    "    \"nn_budget\": None\n",
    "}\n",
    "display = False"
   ]
  },
  {
   "cell_type": "code",
   "execution_count": 6,
   "metadata": {},
   "outputs": [
    {
     "name": "stdout",
     "output_type": "stream",
     "text": [
      "original original\n",
      "testing_data/KITTI-17/ {'precision': 0.9599271402550091, 'recall': 0.7715959004392386, 'f1-score': 0.8555194805194806, 'hota': 0.8084988883560865, 'frames': 145, 'fps': 41.25803707845915}\n"
     ]
    },
    {
     "name": "stderr",
     "output_type": "stream",
     "text": [
      "d:\\deepsort\\Modular-DeepSort\\deep_sort\\preprocessing.py:47: RuntimeWarning: overflow encountered in multiply\n",
      "  area = (x2 - x1 + 1) * (y2 - y1 + 1)\n",
      "d:\\deepsort\\Modular-DeepSort\\deep_sort\\preprocessing.py:66: RuntimeWarning: overflow encountered in multiply\n",
      "  overlap = (w * h) / area[idxs[:last]]\n",
      "d:\\deepsort\\Modular-DeepSort\\deep_sort\\preprocessing.py:66: RuntimeWarning: invalid value encountered in divide\n",
      "  overlap = (w * h) / area[idxs[:last]]\n"
     ]
    },
    {
     "name": "stdout",
     "output_type": "stream",
     "text": [
      "testing_data/MOT16-09/ {'precision': 1.0, 'recall': 0.387102910405174, 'f1-score': 0.5581459133296763, 'hota': 0.6196377194614634, 'frames': 525, 'fps': 16.980944902641774}\n",
      "testing_data/MOT16-11/ {'precision': 0.9997514292816306, 'recall': 0.43841290603880534, 'f1-score': 0.6095324695006442, 'hota': 0.6574320796793435, 'frames': 900, 'fps': 13.705880174877347}\n"
     ]
    },
    {
     "ename": "KeyboardInterrupt",
     "evalue": "",
     "output_type": "error",
     "traceback": [
      "\u001b[1;31m---------------------------------------------------------------------------\u001b[0m",
      "\u001b[1;31mKeyboardInterrupt\u001b[0m                         Traceback (most recent call last)",
      "Cell \u001b[1;32mIn[6], line 21\u001b[0m\n\u001b[0;32m     19\u001b[0m \u001b[38;5;28;01mfor\u001b[39;00m seq \u001b[38;5;129;01min\u001b[39;00m mot_files:\n\u001b[0;32m     20\u001b[0m     t0 \u001b[38;5;241m=\u001b[39m time\u001b[38;5;241m.\u001b[39mtime()\n\u001b[1;32m---> 21\u001b[0m     metrics \u001b[38;5;241m=\u001b[39m \u001b[43mrun\u001b[49m\u001b[43m(\u001b[49m\n\u001b[0;32m     22\u001b[0m \u001b[43m        \u001b[49m\u001b[43mseq\u001b[49m\u001b[43m,\u001b[49m\u001b[43m \u001b[49m\n\u001b[0;32m     23\u001b[0m \u001b[43m        \u001b[49m\u001b[38;5;28;43;01mNone\u001b[39;49;00m\u001b[43m,\u001b[49m\u001b[43m \u001b[49m\n\u001b[0;32m     24\u001b[0m \u001b[43m        \u001b[49m\u001b[38;5;28;43;01mNone\u001b[39;49;00m\u001b[43m,\u001b[49m\u001b[43m \u001b[49m\n\u001b[0;32m     25\u001b[0m \u001b[43m        \u001b[49m\u001b[43mhyperparameters\u001b[49m\u001b[43m[\u001b[49m\u001b[38;5;124;43m\"\u001b[39;49m\u001b[38;5;124;43mmin_confidence\u001b[39;49m\u001b[38;5;124;43m\"\u001b[39;49m\u001b[43m]\u001b[49m\u001b[43m,\u001b[49m\n\u001b[0;32m     26\u001b[0m \u001b[43m        \u001b[49m\u001b[43mhyperparameters\u001b[49m\u001b[43m[\u001b[49m\u001b[38;5;124;43m\"\u001b[39;49m\u001b[38;5;124;43mnms_max_overlap\u001b[39;49m\u001b[38;5;124;43m\"\u001b[39;49m\u001b[43m]\u001b[49m\u001b[43m,\u001b[49m\n\u001b[0;32m     27\u001b[0m \u001b[43m        \u001b[49m\u001b[43mhyperparameters\u001b[49m\u001b[43m[\u001b[49m\u001b[38;5;124;43m\"\u001b[39;49m\u001b[38;5;124;43mmin_detection_height\u001b[39;49m\u001b[38;5;124;43m\"\u001b[39;49m\u001b[43m]\u001b[49m\u001b[43m,\u001b[49m\n\u001b[0;32m     28\u001b[0m \u001b[43m        \u001b[49m\u001b[43mhyperparameters\u001b[49m\u001b[43m[\u001b[49m\u001b[38;5;124;43m\"\u001b[39;49m\u001b[38;5;124;43mmax_cosine_distance\u001b[39;49m\u001b[38;5;124;43m\"\u001b[39;49m\u001b[43m]\u001b[49m\u001b[43m,\u001b[49m\n\u001b[0;32m     29\u001b[0m \u001b[43m        \u001b[49m\u001b[43mhyperparameters\u001b[49m\u001b[43m[\u001b[49m\u001b[38;5;124;43m\"\u001b[39;49m\u001b[38;5;124;43mnn_budget\u001b[39;49m\u001b[38;5;124;43m\"\u001b[39;49m\u001b[43m]\u001b[49m\u001b[43m,\u001b[49m\n\u001b[0;32m     30\u001b[0m \u001b[43m        \u001b[49m\u001b[43md_model\u001b[49m\u001b[43m,\u001b[49m\n\u001b[0;32m     31\u001b[0m \u001b[43m        \u001b[49m\u001b[43mfg_model\u001b[49m\u001b[43m,\u001b[49m\n\u001b[0;32m     32\u001b[0m \u001b[43m        \u001b[49m\u001b[43mdisplay\u001b[49m\n\u001b[0;32m     33\u001b[0m \u001b[43m    \u001b[49m\u001b[43m)\u001b[49m\n\u001b[0;32m     34\u001b[0m     t1 \u001b[38;5;241m=\u001b[39m time\u001b[38;5;241m.\u001b[39mtime()\n\u001b[0;32m     35\u001b[0m     metrics[\u001b[38;5;124m\"\u001b[39m\u001b[38;5;124mfps\u001b[39m\u001b[38;5;124m\"\u001b[39m] \u001b[38;5;241m=\u001b[39m metrics[\u001b[38;5;124m\"\u001b[39m\u001b[38;5;124mframes\u001b[39m\u001b[38;5;124m\"\u001b[39m] \u001b[38;5;241m/\u001b[39m (t1 \u001b[38;5;241m-\u001b[39m t0)\n",
      "File \u001b[1;32md:\\deepsort\\Modular-DeepSort\\deep_sort_app.py:332\u001b[0m, in \u001b[0;36mrun\u001b[1;34m(sequence_dir, detection_file, output_file, min_confidence, nms_max_overlap, min_detection_height, max_cosine_distance, nn_budget, detection_model, feature_generator_model, display)\u001b[0m\n\u001b[0;32m    330\u001b[0m \u001b[38;5;66;03m# print(classic_metrics.get_metric())\u001b[39;00m\n\u001b[0;32m    331\u001b[0m hota_metric \u001b[38;5;241m=\u001b[39m HotaMetric(results, metric_gts)\n\u001b[1;32m--> 332\u001b[0m metrics[\u001b[38;5;124m\"\u001b[39m\u001b[38;5;124mhota\u001b[39m\u001b[38;5;124m\"\u001b[39m] \u001b[38;5;241m=\u001b[39m \u001b[43mhota_metric\u001b[49m\u001b[38;5;241;43m.\u001b[39;49m\u001b[43mget_metric\u001b[49m\u001b[43m(\u001b[49m\u001b[43m)\u001b[49m\n\u001b[0;32m    333\u001b[0m metrics[\u001b[38;5;124m\"\u001b[39m\u001b[38;5;124mframes\u001b[39m\u001b[38;5;124m\"\u001b[39m] \u001b[38;5;241m=\u001b[39m seq_info[\u001b[38;5;124m\"\u001b[39m\u001b[38;5;124mmax_frame_idx\u001b[39m\u001b[38;5;124m\"\u001b[39m]\n\u001b[0;32m    334\u001b[0m \u001b[38;5;66;03m# print(hota_metric.get_metric())\u001b[39;00m\n\u001b[0;32m    335\u001b[0m \u001b[38;5;66;03m# fps_metric = FPSMetric(visualizer)\u001b[39;00m\n\u001b[0;32m    336\u001b[0m \u001b[38;5;66;03m# print(fps_metric.get_fps())\u001b[39;00m\n\u001b[0;32m    337\u001b[0m \n\u001b[0;32m    338\u001b[0m \u001b[38;5;66;03m# print(metrics)\u001b[39;00m\n",
      "File \u001b[1;32md:\\deepsort\\Modular-DeepSort\\deep_sort\\metrics\\hota.py:54\u001b[0m, in \u001b[0;36mHotaMetric.get_metric\u001b[1;34m(self)\u001b[0m\n\u001b[0;32m     53\u001b[0m \u001b[38;5;28;01mdef\u001b[39;00m \u001b[38;5;21mget_metric\u001b[39m(\u001b[38;5;28mself\u001b[39m):\n\u001b[1;32m---> 54\u001b[0m     \u001b[38;5;28;01mreturn\u001b[39;00m \u001b[38;5;28;43mself\u001b[39;49m\u001b[38;5;241;43m.\u001b[39;49m\u001b[43m__calculate_metric\u001b[49m\u001b[43m(\u001b[49m\u001b[43m)\u001b[49m\n",
      "File \u001b[1;32md:\\deepsort\\Modular-DeepSort\\deep_sort\\metrics\\hota.py:60\u001b[0m, in \u001b[0;36mHotaMetric.__calculate_metric\u001b[1;34m(self)\u001b[0m\n\u001b[0;32m     57\u001b[0m result \u001b[38;5;241m=\u001b[39m np\u001b[38;5;241m.\u001b[39mzeros(shape\u001b[38;5;241m=\u001b[39m(\u001b[38;5;241m19\u001b[39m, \u001b[38;5;241m4\u001b[39m))\n\u001b[0;32m     59\u001b[0m \u001b[38;5;28;01mfor\u001b[39;00m frame_id \u001b[38;5;129;01min\u001b[39;00m \u001b[38;5;28mself\u001b[39m\u001b[38;5;241m.\u001b[39m__frame_dict\u001b[38;5;241m.\u001b[39mkeys():\n\u001b[1;32m---> 60\u001b[0m     result \u001b[38;5;241m+\u001b[39m\u001b[38;5;241m=\u001b[39m \u001b[38;5;28;43mself\u001b[39;49m\u001b[38;5;241;43m.\u001b[39;49m\u001b[43m__calculate_frame\u001b[49m\u001b[43m(\u001b[49m\u001b[43mframe_id\u001b[49m\u001b[43m)\u001b[49m\n\u001b[0;32m     62\u001b[0m detection \u001b[38;5;241m=\u001b[39m result[:, \u001b[38;5;241m0\u001b[39m] \u001b[38;5;241m/\u001b[39m np\u001b[38;5;241m.\u001b[39mmaximum(\u001b[38;5;241m1\u001b[39m, np\u001b[38;5;241m.\u001b[39msum(result[:, \u001b[38;5;241m0\u001b[39m:\u001b[38;5;241m3\u001b[39m], axis\u001b[38;5;241m=\u001b[39m\u001b[38;5;241m1\u001b[39m))\n\u001b[0;32m     63\u001b[0m association \u001b[38;5;241m=\u001b[39m np\u001b[38;5;241m.\u001b[39mdivide(result[:, \u001b[38;5;241m3\u001b[39m], result[:, \u001b[38;5;241m0\u001b[39m], out\u001b[38;5;241m=\u001b[39mnp\u001b[38;5;241m.\u001b[39mzeros_like(result[:, \u001b[38;5;241m0\u001b[39m]), where\u001b[38;5;241m=\u001b[39mresult[:, \u001b[38;5;241m0\u001b[39m] \u001b[38;5;241m>\u001b[39m \u001b[38;5;241m0\u001b[39m)\n",
      "File \u001b[1;32md:\\deepsort\\Modular-DeepSort\\deep_sort\\metrics\\hota.py:84\u001b[0m, in \u001b[0;36mHotaMetric.__calculate_frame\u001b[1;34m(self, frame_id)\u001b[0m\n\u001b[0;32m     81\u001b[0m     \u001b[38;5;28;01mfor\u001b[39;00m j \u001b[38;5;129;01min\u001b[39;00m \u001b[38;5;28mrange\u001b[39m(\u001b[38;5;28mlen\u001b[39m(gt_per_frame)):\n\u001b[0;32m     82\u001b[0m         matrix[i, j] \u001b[38;5;241m=\u001b[39m iou(detection_per_frame[i][\u001b[38;5;241m1\u001b[39m:], gt_per_frame[j][\u001b[38;5;241m1\u001b[39m:])\n\u001b[1;32m---> 84\u001b[0m row_idx, col_idx \u001b[38;5;241m=\u001b[39m \u001b[43mlinear_sum_assignment\u001b[49m\u001b[43m(\u001b[49m\u001b[43mmatrix\u001b[49m\u001b[43m,\u001b[49m\u001b[43m \u001b[49m\u001b[43mmaximize\u001b[49m\u001b[38;5;241;43m=\u001b[39;49m\u001b[38;5;28;43;01mTrue\u001b[39;49;00m\u001b[43m)\u001b[49m\n\u001b[0;32m     86\u001b[0m partial_result \u001b[38;5;241m=\u001b[39m np\u001b[38;5;241m.\u001b[39mzeros(shape\u001b[38;5;241m=\u001b[39m(\u001b[38;5;241m19\u001b[39m, \u001b[38;5;241m4\u001b[39m))\n\u001b[0;32m     88\u001b[0m \u001b[38;5;28;01mfor\u001b[39;00m i, a \u001b[38;5;129;01min\u001b[39;00m \u001b[38;5;28menumerate\u001b[39m(np\u001b[38;5;241m.\u001b[39marange(\u001b[38;5;241m0.05\u001b[39m, \u001b[38;5;241m1.00\u001b[39m, \u001b[38;5;241m0.05\u001b[39m)):\n",
      "\u001b[1;31mKeyboardInterrupt\u001b[0m: "
     ]
    }
   ],
   "source": [
    "with open(\"results_original_hyperparameters.md\", \"a\") as file:\n",
    "    for d_model, fg_model in ((x, y) for x in detection_models for y in feature_generator_models):\n",
    "        mean_metrics = {\n",
    "            \"precision\": 0,\n",
    "            \"recall\": 0,\n",
    "            \"f1-score\": 0,\n",
    "            \"hota\": 0,\n",
    "            \"fps\": 0\n",
    "        }\n",
    "        print(d_model, fg_model)\n",
    "        file.write(\"Detection Model: \" + d_model + \"\\n\\n\")\n",
    "        file.write(\"Feature Generation Model: \" + fg_model + \"\\n\\n\")\n",
    "        video_ = []\n",
    "        precision_ = []\n",
    "        recall_ = []\n",
    "        f1_score_ = []\n",
    "        hota_ = []\n",
    "        fps_ = []\n",
    "        for seq in mot_files:\n",
    "            t0 = time.time()\n",
    "            metrics = run(\n",
    "                seq, \n",
    "                None, \n",
    "                None, \n",
    "                hyperparameters[\"min_confidence\"],\n",
    "                hyperparameters[\"nms_max_overlap\"],\n",
    "                hyperparameters[\"min_detection_height\"],\n",
    "                hyperparameters[\"max_cosine_distance\"],\n",
    "                hyperparameters[\"nn_budget\"],\n",
    "                d_model,\n",
    "                fg_model,\n",
    "                display\n",
    "            )\n",
    "            t1 = time.time()\n",
    "            metrics[\"fps\"] = metrics[\"frames\"] / (t1 - t0)\n",
    "            print(seq, metrics)\n",
    "            # file.write(\"Video: \" + seq + \"\\n\")\n",
    "            # file.write(\"Precision: \" + str(round(metrics[\"precision\"], 2)) + \"\\n\")\n",
    "            # file.write(\"Recall: \" + str(round(metrics[\"recall\"], 2)) + \"\\n\")\n",
    "            # file.write(\"F1-score: \" + str(round(metrics[\"f1-score\"], 2)) + \"\\n\")\n",
    "            # file.write(\"Hota: \" + str(round(metrics[\"hota\"], 2)) + \"\\n\") \n",
    "            # file.write(\"FPS: \" + str(round(metrics[\"fps\"], 2)) + \"\\n\") \n",
    "            video_.append(seq)\n",
    "            precision_.append(str(round(metrics[\"precision\"], 2)))\n",
    "            recall_.append(str(round(metrics[\"recall\"], 2)))\n",
    "            f1_score_.append(str(round(metrics[\"f1-score\"], 2)))\n",
    "            hota_.append(str(round(metrics[\"hota\"], 2)))\n",
    "            fps_.append(str(round(metrics[\"fps\"], 2)))\n",
    "            mean_metrics[\"precision\"] += metrics[\"precision\"]\n",
    "            mean_metrics[\"recall\"] += metrics[\"recall\"]\n",
    "            mean_metrics[\"f1-score\"] += metrics[\"f1-score\"]\n",
    "            mean_metrics[\"hota\"] += metrics[\"hota\"]\n",
    "            mean_metrics[\"fps\"] += metrics[\"fps\"]\n",
    "        mean_metrics[\"precision\"] = round(mean_metrics[\"precision\"] / len(mot_files), 2)\n",
    "        mean_metrics[\"recall\"] = round(mean_metrics[\"recall\"] / len(mot_files), 2)\n",
    "        mean_metrics[\"f1-score\"] = round(mean_metrics[\"f1-score\"] / len(mot_files), 2)\n",
    "        mean_metrics[\"hota\"] = round(mean_metrics[\"hota\"] / len(mot_files), 2)\n",
    "        mean_metrics[\"fps\"] = round(mean_metrics[\"fps\"] / len(mot_files), 2)\n",
    "        file.write(\"Metrics Table:\\n\\n\")\n",
    "        file.write(\"| Video | Precision | Recall | F1-score | HOTA | FPS |\\n\")\n",
    "        file.write(\"| --- | --- | --- | --- | --- | --- |\\n\")\n",
    "        for i in range(len(video_)):\n",
    "            file.write(\"| \" + video_[i] + \" | \" + precision_[i] + \" | \" + recall_[i] + \" | \" + f1_score_[i] + \" | \" + hota_[i] + \" | \" + fps_[i] + \" |\\n\")\n",
    "        file.write(\"| ALL | \" + str(mean_metrics[\"precision\"]) + \" | \" + str(mean_metrics[\"recall\"]) + \" | \" + str(mean_metrics[\"f1-score\"]) + \" | \" + str(mean_metrics[\"hota\"]) + \" | \" + str(mean_metrics[\"fps\"]) + \" |\\n\")\n",
    "        file.write(\"---\\n\")\n",
    "\n",
    "        # file.write(\"Mean metrics for all videos\\n\")\n",
    "        # file.write(\"Precision: \" + str(round(mean_metrics[\"precision\"], 2)) + \"\\n\")\n",
    "        # file.write(\"Recall: \" + str(round(mean_metrics[\"recall\"], 2)) + \"\\n\")\n",
    "        # file.write(\"F1-score: \" + str(round(mean_metrics[\"f1-score\"], 2)) + \"\\n\")\n",
    "        # file.write(\"Hota: \" + str(round(mean_metrics[\"hota\"], 2)) + \"\\n\") \n",
    "        # file.write(\"FPS: \" + str(round(mean_metrics[\"fps\"], 2)) + \"\\n\") \n",
    "        # file.write(\"---------\\n\")\n",
    "\n",
    "        print(mean_metrics)"
   ]
  },
  {
   "cell_type": "code",
   "execution_count": null,
   "metadata": {},
   "outputs": [],
   "source": []
  }
 ],
 "metadata": {
  "kernelspec": {
   "display_name": "Python 3",
   "language": "python",
   "name": "python3"
  },
  "language_info": {
   "codemirror_mode": {
    "name": "ipython",
    "version": 3
   },
   "file_extension": ".py",
   "mimetype": "text/x-python",
   "name": "python",
   "nbconvert_exporter": "python",
   "pygments_lexer": "ipython3",
   "version": "3.11.3"
  }
 },
 "nbformat": 4,
 "nbformat_minor": 2
}
